{
 "cells": [
  {
   "cell_type": "code",
   "execution_count": 67,
   "id": "bab82a95",
   "metadata": {},
   "outputs": [],
   "source": [
    "import pandas as pd\n",
    "import seaborn as sns\n",
    "from sklearn.feature_extraction import DictVectorizer\n",
    "from sklearn.linear_model import LinearRegression\n",
    "from sklearn.metrics import mean_squared_error\n",
    "import numpy as np\n",
    "import warnings\n",
    "warnings.filterwarnings('ignore')"
   ]
  },
  {
   "cell_type": "markdown",
   "id": "48cb8310",
   "metadata": {},
   "source": [
    "### Reading data"
   ]
  },
  {
   "cell_type": "code",
   "execution_count": 70,
   "id": "13ae0e71",
   "metadata": {},
   "outputs": [],
   "source": [
    "jan = pd.read_parquet('fhv_tripdata_2021-01.parquet')\n",
    "feb = pd.read_parquet('fhv_tripdata_2021-02.parquet')"
   ]
  },
  {
   "cell_type": "code",
   "execution_count": 62,
   "id": "787caae3",
   "metadata": {},
   "outputs": [],
   "source": [
    "def prepare_duration(df):\n",
    "    df['duration'] = df['dropOff_datetime'] - df['pickup_datetime']\n",
    "    df['duration'] = df['duration'].map(lambda x: x.total_seconds() / 60"
   ]
  },
  {
   "cell_type": "code",
   "execution_count": 84,
   "id": "5d5bbfce",
   "metadata": {},
   "outputs": [],
   "source": [
    "def prepare_features(df):\n",
    "    df = df[(df['duration'] >= 1) & (df['duration'] <= 60)]\n",
    "\n",
    "    df['PUlocationID'] = df['PUlocationID'].fillna(-1)\n",
    "    df['DOlocationID'] = df['DOlocationID'].fillna(-1)\n",
    "\n",
    "    df['PUlocationID'] = df['PUlocationID'].astype(str)\n",
    "    df['DOlocationID'] = df['DOlocationID'].astype(str)\n",
    "    \n",
    "    return df"
   ]
  },
  {
   "cell_type": "markdown",
   "id": "7e6fa234",
   "metadata": {},
   "source": [
    "### Preparing train data"
   ]
  },
  {
   "cell_type": "code",
   "execution_count": 72,
   "id": "72fbb0c7",
   "metadata": {},
   "outputs": [],
   "source": [
    "prepare_duration(jan)"
   ]
  },
  {
   "cell_type": "code",
   "execution_count": 73,
   "id": "0d06ff4a",
   "metadata": {},
   "outputs": [
    {
     "data": {
      "text/plain": [
       "19.167224093791006"
      ]
     },
     "execution_count": 73,
     "metadata": {},
     "output_type": "execute_result"
    }
   ],
   "source": [
    "jan.duration.mean()"
   ]
  },
  {
   "cell_type": "code",
   "execution_count": 85,
   "id": "62729ca5",
   "metadata": {},
   "outputs": [],
   "source": [
    "jan = prepare_features(jan)"
   ]
  },
  {
   "cell_type": "code",
   "execution_count": 90,
   "id": "b15a8832",
   "metadata": {},
   "outputs": [
    {
     "data": {
      "text/plain": [
       "0.8352732770722617"
      ]
     },
     "execution_count": 90,
     "metadata": {},
     "output_type": "execute_result"
    }
   ],
   "source": [
    "jan[jan.PUlocationID == '-1.0'].shape[0] / len(jan)"
   ]
  },
  {
   "cell_type": "markdown",
   "id": "21e47927",
   "metadata": {},
   "source": [
    "### Preparing model data"
   ]
  },
  {
   "cell_type": "code",
   "execution_count": 92,
   "id": "28826d1a",
   "metadata": {},
   "outputs": [
    {
     "data": {
      "text/plain": [
       "(1109826, 525)"
      ]
     },
     "execution_count": 92,
     "metadata": {},
     "output_type": "execute_result"
    }
   ],
   "source": [
    "X = jan[['PUlocationID', 'DOlocationID']].to_dict(orient='records')\n",
    "vec = DictVectorizer()\n",
    "X = vec.fit_transform(features)\n",
    "y = jan.duration.values\n",
    "X.shape"
   ]
  },
  {
   "cell_type": "code",
   "execution_count": 93,
   "id": "00dd5c35",
   "metadata": {},
   "outputs": [
    {
     "data": {
      "text/plain": [
       "10.528519425310185"
      ]
     },
     "execution_count": 93,
     "metadata": {},
     "output_type": "execute_result"
    }
   ],
   "source": [
    "lr = LinearRegression()\n",
    "lr.fit(X, y)\n",
    "preds = lr.predict(X)\n",
    "np.sqrt(mean_squared_error(y, preds))"
   ]
  },
  {
   "cell_type": "code",
   "execution_count": 94,
   "id": "d05b91fe",
   "metadata": {},
   "outputs": [],
   "source": [
    "prepare_duration(feb)"
   ]
  },
  {
   "cell_type": "code",
   "execution_count": 95,
   "id": "5650de6c",
   "metadata": {},
   "outputs": [],
   "source": [
    "feb = prepare_features(feb)"
   ]
  },
  {
   "cell_type": "code",
   "execution_count": 98,
   "id": "478b04ed",
   "metadata": {},
   "outputs": [],
   "source": [
    "X_val = feb[['PUlocationID', 'DOlocationID']].to_dict(orient='records')\n",
    "X_val = vec.transform(X_val)\n",
    "y_val = feb.duration.values"
   ]
  },
  {
   "cell_type": "code",
   "execution_count": 99,
   "id": "39e93ef9",
   "metadata": {},
   "outputs": [
    {
     "data": {
      "text/plain": [
       "11.014285828610237"
      ]
     },
     "execution_count": 99,
     "metadata": {},
     "output_type": "execute_result"
    }
   ],
   "source": [
    "preds = lr.predict(X_val)\n",
    "np.sqrt(mean_squared_error(y_val, preds))"
   ]
  },
  {
   "cell_type": "code",
   "execution_count": null,
   "id": "67de5d40",
   "metadata": {},
   "outputs": [],
   "source": []
  }
 ],
 "metadata": {
  "kernelspec": {
   "display_name": "Python 3 (ipykernel)",
   "language": "python",
   "name": "python3"
  },
  "language_info": {
   "codemirror_mode": {
    "name": "ipython",
    "version": 3
   },
   "file_extension": ".py",
   "mimetype": "text/x-python",
   "name": "python",
   "nbconvert_exporter": "python",
   "pygments_lexer": "ipython3",
   "version": "3.9.12"
  }
 },
 "nbformat": 4,
 "nbformat_minor": 5
}
